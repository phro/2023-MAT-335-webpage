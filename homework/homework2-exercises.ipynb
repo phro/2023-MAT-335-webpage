{
 "cells": [
  {
   "cell_type": "markdown",
   "metadata": {},
   "source": [
    "# Homework 2\n",
    "\n",
    "Do the programing part of Homework 2 in this notebook. Predefined are function *stubs*. That is, the name of the function and a basic body is predefined. You need to modify the code to fulfil the requirements of the homework."
   ]
  },
  {
   "cell_type": "code",
   "execution_count": null,
   "metadata": {},
   "outputs": [],
   "source": [
    "# import numpy and matplotlib\n",
    "import numpy as np\n",
    "import matplotlib.pylab as plt\n",
    "from collections import Counter\n",
    "# We give the matplotlib instruction twice, because firefox sometimes gets upset if we don't.\n",
    "# note these `%`-commands are not actually Python commands. They are Jupyter-notebook-specific commands.\n",
    "%matplotlib notebook\n",
    "%matplotlib notebook"
   ]
  },
  {
   "cell_type": "code",
   "execution_count": null,
   "metadata": {},
   "outputs": [],
   "source": [
    "#\n",
    "# Some helper functions\n",
    "#\n",
    "\n",
    "def plot_distributions(dists, labels=[], title=\"\"):\n",
    "    \"\"\"Plot a bar graph of several distributions side-by-side. It is\n",
    "    assume that the states in each distribution are in the same order.\n",
    "    \n",
    "    `dists` is a list of distributions\n",
    "    `labels` is an optional list of labels, one for each distribution\n",
    "    `title` is an optional title for the plot\n",
    "    \"\"\"\n",
    "    states = [state for p,state in dists[0]]\n",
    "    num_states = len(states)\n",
    "    \n",
    "    total_bar_width = .9\n",
    "    bar_width = total_bar_width / len(dists)\n",
    "    \n",
    "    fig, ax = plt.subplots()\n",
    "    xs = np.arange(num_states)\n",
    "    \n",
    "    for i,dist in enumerate(dists):\n",
    "        dist_vals = [p for p,state in dist]\n",
    "        bar_offset = (i + .5) * bar_width - total_bar_width / 2\n",
    "        try:\n",
    "            ax.bar(xs + bar_offset, dist_vals, bar_width, label=labels[i])\n",
    "        except:\n",
    "            ax.bar(xs + bar_offset, dist_vals, bar_width)\n",
    "        \n",
    "    ax.set_ylabel(\"Probability\")\n",
    "    ax.set_xticks(xs)\n",
    "    ax.set_xticklabels(states)\n",
    "    \n",
    "    if labels:\n",
    "        ax.legend()\n",
    "    if title:\n",
    "        ax.set_title(title)\n",
    "    \n",
    "def ensure_consistent_dists(dists):\n",
    "    \"\"\"Given a list of distributions, returns a list of distributions\n",
    "    that have the same states in the same orders. This function adds \"missing\" states.\n",
    "    For example inputting `[[(1,\"a\")], [(1,\"b\")]]` results in \n",
    "    `[[(1,\"a\"), (0,\"b\")],[(0,\"a\"), (1,\"b\")]]`\"\"\"\n",
    "    all_states = set()\n",
    "    for dist in dists:\n",
    "        all_states.update(s for _,s in dist)\n",
    "    \n",
    "    ret = []\n",
    "    for dist in dists:\n",
    "        new_dist = []\n",
    "        dist_hash = {s:v for v,s in dist}\n",
    "        for state in sorted(all_states):\n",
    "            if state in dist_hash:\n",
    "                new_dist.append((dist_hash[state], state))\n",
    "            else:\n",
    "                new_dist.append((0, state))\n",
    "        ret.append(new_dist)\n",
    "    return ret"
   ]
  },
  {
   "cell_type": "code",
   "execution_count": null,
   "metadata": {},
   "outputs": [],
   "source": [
    "def pick_random(l):\n",
    "    # Return the first state\n",
    "    # Of course, this isn't want the function should do. Make sure to replace this code!\n",
    "    return l[0][1]\n",
    "\n",
    "distribution = [(1/4, \"a\"), (3/4, \"b\")]\n",
    "picks = []\n",
    "for _ in range(10):\n",
    "    picks.append(pick_random(distribution))\n",
    "    \n",
    "print(\"Picking from the distribution\", distribution, \"10 times gives\", picks)"
   ]
  },
  {
   "cell_type": "code",
   "execution_count": null,
   "metadata": {},
   "outputs": [],
   "source": [
    "N=100\n",
    "\n",
    "def pick_random_n(dist, n=100):\n",
    "    return [pick_random(dist) for _ in range(n)]\n",
    "\n",
    "distribution = [(1/4, \"a\"), (3/4, \"b\")]\n",
    "counts = Counter(pick_random_n(distribution, N))\n",
    "\n",
    "states = [s for (_,s) in distribution]\n",
    "empirical_dist = [(counts[s]/N, s) for s in states]\n",
    "\n",
    "plot_distributions(ensure_consistent_dists([distribution, empirical_dist]), \n",
    "                   labels=[\"Theoretical\", \"Empirical\"],\n",
    "                   title=\"Theoretical and Empirical Distributions\")"
   ]
  },
  {
   "cell_type": "markdown",
   "metadata": {},
   "source": [
    "## Some Markov Chains!"
   ]
  },
  {
   "cell_type": "code",
   "execution_count": null,
   "metadata": {},
   "outputs": [],
   "source": [
    "#\n",
    "# These define Markov chains that you will use later\n",
    "#\n",
    "CHAIN1 = {\n",
    "          \"a\": [(1/2, \"a\"), (1/2, \"b\")],\n",
    "          \"b\": [(1, \"a\")]\n",
    "         }\n",
    "\n",
    "CHAIN2 = {\n",
    "          \"a\": [(.5, \"b\"), (.5, \"e\")],\n",
    "          \"b\": [(1, \"c\")],\n",
    "          \"c\": [(1, \"d\")],\n",
    "          \"d\": [(1, \"a\")],\n",
    "          \"e\": [(1, \"f\")],\n",
    "          \"f\": [(1, \"a\")]\n",
    "         }\n",
    "\n",
    "CHAIN3 = {\n",
    "          \"a\": [(.5, \"b\"), (.5, \"e\")],\n",
    "          \"b\": [(1, \"c\")],\n",
    "          \"c\": [(1, \"d\")],\n",
    "          \"d\": [(1, \"a\")],\n",
    "          \"e\": [(1, \"a\")]\n",
    "         }\n"
   ]
  },
  {
   "cell_type": "code",
   "execution_count": null,
   "metadata": {},
   "outputs": [],
   "source": [
    "def step(start_state, chain):\n",
    "    # Replace this code with correct code\n",
    "    return start_state\n",
    "\n",
    "def n_orbit(start_state, chain, n=5):\n",
    "    # Replace this code with correct code\n",
    "    return [start_state]*n\n",
    "\n",
    "print(\"Starting at \\\"a\\\" in CHAIN1 and stepping once we end up at\", step(\"a\", CHAIN1), \n",
    "      \"If we step 10 times, a realization is\", n_orbit(\"a\", CHAIN1, 10))"
   ]
  },
  {
   "cell_type": "code",
   "execution_count": null,
   "metadata": {},
   "outputs": [],
   "source": [
    "def make_dist(realization):\n",
    "    # Replace this with correc code\n",
    "    return [(1, realization[0])]\n",
    "\n",
    "empirical_dist = make_dist(n_orbit(\"a\", CHAIN1, 10000))\n",
    "\n",
    "print(\"The emperical distribution of the first 1000 steps along CHAIN1 is\", empirical_dist)\n",
    "\n",
    "plot_distributions(ensure_consistent_dists([[(2/3, \"a\"), (1/3, \"b\")], empirical_dist]), \n",
    "                   labels=[\"Theoretical\", \"Empirical\"],\n",
    "                   title=\"Theoretical and Empirical Distributions of 1000 Steps on CHAIN1\")"
   ]
  },
  {
   "cell_type": "code",
   "execution_count": null,
   "metadata": {},
   "outputs": [],
   "source": [
    "#\n",
    "# Plot the empirical distributions arising from CHAIN2 starting at \"a\", \"b\", ...\n",
    "#"
   ]
  },
  {
   "cell_type": "code",
   "execution_count": null,
   "metadata": {},
   "outputs": [],
   "source": [
    "#\n",
    "# Plot the distribution of r_100's and r_101's for CHAIN2\n",
    "#"
   ]
  },
  {
   "cell_type": "code",
   "execution_count": null,
   "metadata": {},
   "outputs": [],
   "source": [
    "#\n",
    "# Plot the empirical distributions arising from CHAIN3 starting at \"a\", \"b\", ...\n",
    "#"
   ]
  },
  {
   "cell_type": "code",
   "execution_count": null,
   "metadata": {},
   "outputs": [],
   "source": [
    "#\n",
    "# Plot the distribution of r_100's and r_101's for CHAIN3\n",
    "#"
   ]
  },
  {
   "cell_type": "markdown",
   "metadata": {},
   "source": [
    "## Simulate Speech"
   ]
  },
  {
   "cell_type": "code",
   "execution_count": null,
   "metadata": {},
   "outputs": [],
   "source": [
    "#\n",
    "# Some useful functions for text analysis\n",
    "#\n",
    "def get_words(raw_text):\n",
    "    \"\"\"Given a text string, remove all punctuation and capitalization\n",
    "    and return a list of words.\"\"\"\n",
    "    import re\n",
    "    return re.sub(r\"\\s+\", \" \", re.sub(r\"[\\W\\d]\", \" \", raw_text)).lower().strip().split(\" \")\n",
    "\n",
    "#\n",
    "# Download the complete works of Shakespeare and the Ontario Criminal Code\n",
    "#\n",
    "import requests\n",
    "response = requests.get(\"https://github.com/siefkenj/2020-MAT-335-webpage/raw/master/homework/shakespear.txt\")\n",
    "raw_text = response.text\n",
    "SHAKE = get_words(raw_text)\n",
    "\n",
    "response = requests.get(\"https://github.com/siefkenj/2020-MAT-335-webpage/raw/master/homework/ontario-criminal-code.txt\")\n",
    "raw_text = response.text\n",
    "CRIMINAL = get_words(raw_text)"
   ]
  },
  {
   "cell_type": "code",
   "execution_count": null,
   "metadata": {},
   "outputs": [],
   "source": [
    "def make_chain(words):\n",
    "    # Replace with correct code\n",
    "    return {words[0]: [(1, words[0])]}\n",
    "\n",
    "print(\"Simulating CHAIN1 for 100 steps and then using the simulation to recover\",\n",
    "      \"a Markov chain gives:\",\n",
    "      make_chain(n_orbit(\"a\", CHAIN1, 1000)))"
   ]
  },
  {
   "cell_type": "code",
   "execution_count": null,
   "metadata": {},
   "outputs": [],
   "source": [
    "SHAKE_CHAIN = make_chain(SHAKE)\n",
    "CRIMINAL_CHAIN = make_chain(CRIMINAL)"
   ]
  },
  {
   "cell_type": "code",
   "execution_count": null,
   "metadata": {},
   "outputs": [],
   "source": [
    "#\n",
    "# A realization of Shakespeare\n",
    "#\n",
    "\" \".join(n_orbit(\"the\", SHAKE_CHAIN, 30))"
   ]
  },
  {
   "cell_type": "code",
   "execution_count": null,
   "metadata": {},
   "outputs": [],
   "source": [
    "#\n",
    "# A realization of the Ontario Criminal Code\n",
    "#\n",
    "\" \".join(n_orbit(\"the\", CRIMINAL_CHAIN, 30))"
   ]
  },
  {
   "cell_type": "markdown",
   "metadata": {},
   "source": [
    "## Iterated Functions"
   ]
  },
  {
   "cell_type": "code",
   "execution_count": null,
   "metadata": {},
   "outputs": [],
   "source": [
    "#\n",
    "# Some helpful functions\n",
    "#\n",
    "\n",
    "def apply(point, funcs):\n",
    "    \"\"\"Apply a sequence of functions to a point.\"\"\"\n",
    "    for f in funcs:\n",
    "        point = f(point)\n",
    "    return point\n",
    "\n",
    "def render_points_to_array(points, array, extent=[0, 1, 0, 1], additive=False):\n",
    "    \"\"\"Given a list of points `points` and a 2d numpy array `array`, \n",
    "    \"draw\" the points to the array. The resulting array is suitable for displaying\n",
    "    with `imshow`. \"\"\"\n",
    "    \n",
    "    array = array.copy()\n",
    "    h, w = array.shape\n",
    "    \n",
    "    for p in points:\n",
    "        # conver the xy-coordinates to array indices\n",
    "        x = np.clip(int((p[0] - extent[0]) / (extent[1] - extent[0]) * w), 0, w - 1)\n",
    "        y = np.clip(int((p[1] - extent[2]) / (extent[3] - extent[2]) * h), 0, h - 1)\n",
    "        if additive:\n",
    "            array[y][x] += 1\n",
    "        else:\n",
    "            array[y][x] = 1\n",
    "    return array"
   ]
  },
  {
   "cell_type": "code",
   "execution_count": null,
   "metadata": {},
   "outputs": [],
   "source": [
    "#\n",
    "# Functions for our first iterated function system!\n",
    "#\n",
    "def f1(p):\n",
    "    return (p/2)\n",
    "def f2(p):\n",
    "    return (p/2 + np.array([1/2,0]))\n",
    "def f3(p):\n",
    "    return p/2 + np.array([0,1/2])\n",
    "\n",
    "F_CHAIN = {\n",
    "    \"start\": [(1/3, f1), (1/3, f2), (1/3, f3)],\n",
    "    f1: [(1/3, f1), (1/3, f2), (1/3, f3)],\n",
    "    f2: [(1/3, f1), (1/3, f2), (1/3, f3)],\n",
    "    f3: [(1/3, f1), (1/3, f2), (1/3, f3)],\n",
    "    }"
   ]
  },
  {
   "cell_type": "code",
   "execution_count": null,
   "metadata": {},
   "outputs": [],
   "source": [
    "N = 100\n",
    "zs = np.zeros((N,N))\n",
    "\n",
    "funcs = n_orbit(\"start\", F_CHAIN, 10)\n",
    "# The first state in this realization is \"start\", not actually a function,\n",
    "# so we will remove that with an *array slice*\n",
    "funcs = funcs[1:]\n",
    "\n",
    "# Apply the sequence of functions to the starting point (1,1)\n",
    "sample_point = apply(np.array([1,1]), funcs)\n",
    "\n",
    "# .__name__ is Python magic to get the name of a function as a string\n",
    "print(\"Applying the sequence of functions\", [f.__name__ for f in funcs], \"to (1,1) gives\", sample_point)\n",
    "\n",
    "fig, ax = plt.subplots()\n",
    "extent = [0, 1, 0, 1]\n",
    "# Plot our lonely sample point!\n",
    "ax.imshow(render_points_to_array([sample_point], zs, extent), cmap=\"viridis\", extent=extent, origin=\"lower\")\n",
    "\n",
    "plt.show()"
   ]
  },
  {
   "cell_type": "code",
   "execution_count": null,
   "metadata": {},
   "outputs": [],
   "source": [
    "#\n",
    "# Plot the distribution produced by F_CHAIN\n",
    "#"
   ]
  },
  {
   "cell_type": "code",
   "execution_count": null,
   "metadata": {},
   "outputs": [],
   "source": [
    "#\n",
    "# Create F_CHAIN2 and plot the densities of both F_CHAIN and F_CHAIN2\n",
    "#"
   ]
  },
  {
   "cell_type": "code",
   "execution_count": null,
   "metadata": {},
   "outputs": [],
   "source": [
    "#\n",
    "# Create ROT_CHAIN and plot the resulting distribution\n",
    "#"
   ]
  },
  {
   "cell_type": "code",
   "execution_count": null,
   "metadata": {},
   "outputs": [],
   "source": [
    "#\n",
    "# Create BARNSLEY_CHAIN here\n",
    "#"
   ]
  }
 ],
 "metadata": {
  "kernelspec": {
   "display_name": "Python 3",
   "language": "python",
   "name": "python3"
  },
  "language_info": {
   "codemirror_mode": {
    "name": "ipython",
    "version": 3
   },
   "file_extension": ".py",
   "mimetype": "text/x-python",
   "name": "python",
   "nbconvert_exporter": "python",
   "pygments_lexer": "ipython3",
   "version": "3.6.9"
  }
 },
 "nbformat": 4,
 "nbformat_minor": 2
}
