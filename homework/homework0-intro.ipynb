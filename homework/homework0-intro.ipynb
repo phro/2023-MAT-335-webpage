{
 "cells": [
  {
   "cell_type": "markdown",
   "metadata": {},
   "source": [
    "# Introduction\n",
    "\n",
    "Welcome to your (first?) Jupyter notebook! You can write **`Python`** in a cell and then execute it with **`Shift+Enter`**.\n",
    "\n",
    "If you're totally new to programming and `Python`, start by going through https://www.programiz.com/python-programming/tutorial#introduction\n",
    "\n",
    "This workbook will go over some of the basics we need in this course, but it won't be a full introduction to programming. Expect to do lots of experimenting! Coding/programming is the ultimate exercise in precisely describing your ideas. The computer will **never** give you the benefit of the doubt. If you say something imprecise, it will just give up instead of trying ;-)"
   ]
  },
  {
   "cell_type": "code",
   "execution_count": null,
   "metadata": {},
   "outputs": [],
   "source": [
    "# comments in python are made with the `#` symbol. These don't get executed\n",
    "\n",
    "# In a notebook cell, the output of the last line will get printed automatically.\n",
    "# If you want something else to print, you will have to print it manually\n",
    "5+10/2"
   ]
  },
  {
   "cell_type": "code",
   "execution_count": null,
   "metadata": {},
   "outputs": [],
   "source": [
    "# Assign variables with `=`. Note that `==` is used to *compare* values\n",
    "\n",
    "# BEFORE you execute this cell, guess what will be output\n",
    "x = 4\n",
    "y = 5\n",
    "print(x, y, x == y)\n",
    "z = x - y\n",
    "print(x + y)\n",
    "z == -(y - x)"
   ]
  },
  {
   "cell_type": "code",
   "execution_count": null,
   "metadata": {},
   "outputs": [],
   "source": [
    "# Once a variable is defined, you may use it in another cell\n",
    "print(\"The value of `w` is\", z)"
   ]
  },
  {
   "cell_type": "code",
   "execution_count": null,
   "metadata": {},
   "outputs": [],
   "source": [
    "# Exponents use `**` instead of `^`\n",
    "\n",
    "# Look at the following code and see if you can guess what it will do\n",
    "for x in [1, 2, 3, 4]:\n",
    "    if x**2 < 10:\n",
    "        print(x)"
   ]
  },
  {
   "cell_type": "markdown",
   "metadata": {},
   "source": [
    "## Mathy Stuff\n",
    "\n",
    "There are *three* division-related operations in Python: `/`, `//`, and `%`\n",
    "\n",
    "`a/b` will divide `a` by `b` and give a (possibly) decimal result. `a//b` will divide \n",
    "`a` by `b` and return the integer part only (no decimal), and `a % b` will return the remainder\n",
    "off the operation `a` divided by `b` (the `%` symbol is pronounced *mod*, which is short for the\n",
    "latin *modulus*).\n"
   ]
  },
  {
   "cell_type": "code",
   "execution_count": null,
   "metadata": {},
   "outputs": [],
   "source": [
    "x = 50\n",
    "y = 13\n",
    "\n",
    "print(x / y, x // y, x % y)\n",
    "print((x // y)*y == x, (x // y)*y + (x % y) == x)"
   ]
  },
  {
   "cell_type": "markdown",
   "metadata": {},
   "source": [
    "## Functions & Lists!"
   ]
  },
  {
   "cell_type": "code",
   "execution_count": null,
   "metadata": {},
   "outputs": [],
   "source": [
    "# Functions are defined with the `def` keyword. You use the `return` keyword to\n",
    "# specify the output.\n",
    "\n",
    "def square(x):\n",
    "    return x**2\n",
    "\n",
    "print(\"The square of\", 4, \"is\", square(4))\n",
    "\n",
    "# Lists are defined with `[...]` (square brackets), with `[]` denoting the empty list\n",
    "my_list = []\n",
    "my_list.append(2)\n",
    "my_list.append(square(2))\n",
    "my_list.append(3)\n",
    "my_list.append(square(3))\n",
    "my_list.append(4)\n",
    "my_list.append(square(4))\n",
    "print(\"My list:\", my_list)\n",
    "\n",
    "# The same thing could have been accomplished with a loop\n",
    "my_other_list = []\n",
    "for i in range(2,5):\n",
    "    my_other_list.append(i)\n",
    "    my_other_list.append(square(i))\n",
    "print(\"My other list:\", my_other_list)\n",
    "\n",
    "# `range()` leaves off it's last value (which is why 5 and 5**2 weren't in `my_other_list`)\n",
    "\n",
    "# We can change an entry in a list with the `var[...] = ...` syntax. The index\n",
    "# of the first element in a list is *zero*\n",
    "my_list[0] = 10\n",
    "print(\"My modified list\", my_list)\n",
    "\n",
    "# And we can iterate over values in a list using a for loop\n",
    "print(\"\")\n",
    "print(\"Let's print the list, but tabbed over!\")\n",
    "for i in my_other_list:\n",
    "    print(\"\\t\", i)"
   ]
  },
  {
   "cell_type": "markdown",
   "metadata": {},
   "source": [
    "# Graphing and Numerics\n",
    "\n",
    "Basic python features are great for displaying text, but we want to make graphs and do matrix operations! For that, we will use the **`numpy`** and **`matplotlib`** libraries. You'll be googling these a lot!\n",
    "\n",
    "We will import them, but using the `import ... as ...` to give them a shorter name that we can reference in our code. Executing the next cell will import the libraries and tell `matplotlib` to render graphs in a way the Jupyter notebooks understands.\n",
    "\n",
    "To see a ton more examples with sample code, visit: https://matplotlib.org/gallery/index.html"
   ]
  },
  {
   "cell_type": "code",
   "execution_count": null,
   "metadata": {
    "collapsed": true
   },
   "outputs": [],
   "source": [
    "import numpy as np\n",
    "import matplotlib.pylab as plt\n",
    "# We give the matplotlib instruction twice, because firefox sometimes gets upset if we don't.\n",
    "# note these `%`-commands are not actually Python commands. They are Jupyter-notebook-specific commands.\n",
    "%matplotlib notebook\n",
    "%matplotlib notebook"
   ]
  },
  {
   "cell_type": "markdown",
   "metadata": {},
   "source": [
    "Unfortunately, `Python` doesn't know how to just graph a function. Instead, we need to provide a \n",
    "bunch of points; then we can graph those points (connected by line segments)."
   ]
  },
  {
   "cell_type": "code",
   "execution_count": null,
   "metadata": {},
   "outputs": [],
   "source": [
    "xs = [-2, -1, 0, 1, 2]\n",
    "ys = [1, 3, -2, 3, 4]\n",
    "\n",
    "# create a new figure\n",
    "fig = plt.figure()\n",
    "# create an \"axis\" inside the figure\n",
    "ax = fig.add_subplot(1, 1, 1)\n",
    "ax.plot(xs, ys, color=\"green\")"
   ]
  },
  {
   "cell_type": "code",
   "execution_count": null,
   "metadata": {},
   "outputs": [],
   "source": [
    "# Specifying every input and output can be annoying, but `numpy` has some\n",
    "# special functions to help.\n",
    "\n",
    "# np.linspace(a,b,n) will linearly space n points between a and b\n",
    "np.linspace(-3,3,10)"
   ]
  },
  {
   "cell_type": "markdown",
   "metadata": {},
   "source": [
    "Notice that the result of `linspace` isn't actually a python list (it has `array(` before it). It's actually a `numpy` array, which is similar to a python list, but you can do basic math operations directly on it."
   ]
  },
  {
   "cell_type": "code",
   "execution_count": null,
   "metadata": {},
   "outputs": [],
   "source": [
    "xs = np.linspace(-3,3,10)\n",
    "ys = xs**2 + 1\n",
    "\n",
    "# create a new figure\n",
    "fig = plt.figure()\n",
    "# create an \"axis\" inside the figure\n",
    "ax = fig.add_subplot(1, 1, 1)\n",
    "ax.plot(xs, ys)"
   ]
  },
  {
   "cell_type": "markdown",
   "metadata": {},
   "source": [
    "That looks jaggedy. Let's do more sample points!"
   ]
  },
  {
   "cell_type": "code",
   "execution_count": null,
   "metadata": {},
   "outputs": [],
   "source": [
    "xs = np.linspace(-3,3,10)\n",
    "ys = xs**2 + 1\n",
    "\n",
    "many_xs = np.linspace(-3,3,1000)\n",
    "many_ys = many_xs**2 + 1/2\n",
    "\n",
    "# create a new figure\n",
    "fig = plt.figure()\n",
    "# create an \"axis\" inside the figure\n",
    "ax = fig.add_subplot(1, 1, 1)\n",
    "\n",
    "# plot both on the same \"axis\"\n",
    "ax.plot(xs, ys)\n",
    "ax.plot(many_xs, many_ys, color=\"orange\")"
   ]
  },
  {
   "cell_type": "code",
   "execution_count": null,
   "metadata": {},
   "outputs": [],
   "source": [
    "# `numpy` has most common math operations built in, but you need to prefix them with `np.`\n",
    "xs = np.linspace(-5, 5, 500)\n",
    "ys = np.sin(xs)\n",
    "\n",
    "# using loops, we can do all sorts of fun things!\n",
    "deriv = []\n",
    "for i in range(len(xs) - 1):\n",
    "    # we use the `len()` function to figure out how long the list of xs is (we already know it was 500, \n",
    "    # but why memorize!). Let's then take the difference quotient of successive items. Since we are accessing\n",
    "    # the `i+1` entry in the array, we need to make sure to have `i` take on values up to the length of the\n",
    "    # array - 1 (technically length of the array - 2, because indexing starts at zero.)\n",
    "    deriv.append((ys[i + 1] - ys[i]) / (xs[i+1] - xs[i]))\n",
    "\n",
    "# let's plot sin and its numerically computed derivative!\n",
    "# create a new figure\n",
    "fig = plt.figure()\n",
    "# create an \"axis\" inside the figure\n",
    "ax = fig.add_subplot(1, 1, 1)\n",
    "\n",
    "# plot both on the same \"axis\"\n",
    "ax.plot(xs, ys, color=\"blue\")\n",
    "ax.plot(xs, deriv, color=\"blue\")"
   ]
  },
  {
   "cell_type": "code",
   "execution_count": null,
   "metadata": {},
   "outputs": [],
   "source": [
    "# OOOOOPS! We hit an error. There are 500 xs and only 499 ys! We can use the syntax \n",
    "# xs[0:499] to take the first 499 values in the xs array.\n",
    "\n",
    "fig = plt.figure()\n",
    "ax = fig.add_subplot(1, 1, 1)\n",
    "\n",
    "ax.plot(xs, ys)\n",
    "ax.plot(xs[0:499], deriv)"
   ]
  },
  {
   "cell_type": "code",
   "execution_count": null,
   "metadata": {},
   "outputs": [],
   "source": [
    "# If we want to do math operations on `deriv`, we need to compute it into a numpy array first.\n",
    "\n",
    "# deriv + 1  ====> an error\n",
    "# np.array(deriv) + 1  ====> add one to every value\n",
    "\n",
    "deriv_array = np.array(deriv)\n",
    "shifted_deriv = deriv_array + 1\n",
    "\n",
    "fig = plt.figure()\n",
    "ax = fig.add_subplot(1, 1, 1)\n",
    "\n",
    "# put some axis lines on our plot\n",
    "ax.axhline(y=0, color='gray')\n",
    "ax.axvline(x=0, color='gray')\n",
    "\n",
    "# make the original graph semi-transparent by setting `alpha=.2` (i.e., 20% visible)\n",
    "ax.plot(xs, ys, alpha=.2)\n",
    "ax.plot(xs[0:499], deriv)\n",
    "# plot the shifted derivative with dashed lines\n",
    "ax.plot(xs[0:499], shifted_deriv, linestyle=\"--\")"
   ]
  },
  {
   "cell_type": "markdown",
   "metadata": {},
   "source": [
    "## Vectorizing\n",
    "\n",
    "`numpy` functions apply a function to each element in an array. In programming nomeclature, \n",
    "we say that `numpy` functions are **vectorized**. `numpy` can vectorize regular python functions\n",
    "so that they can work on arrays."
   ]
  },
  {
   "cell_type": "code",
   "execution_count": null,
   "metadata": {},
   "outputs": [],
   "source": [
    "def f(x):\n",
    "    if x > 1:\n",
    "        return 1/2*(x-1)**2\n",
    "    else:\n",
    "        return -x\n",
    "\n",
    "# vectorize our function!\n",
    "vf = np.vectorize(f)\n",
    "\n",
    "xs = np.linspace(-3, 3, 500)\n",
    "\n",
    "# because `vf` has been \"vectorized\", it can accept an array as input. The output\n",
    "# will be `f` applied to every array input\n",
    "\n",
    "# ys = f(xs)  ====> We'd get an error here\n",
    "ys = vf(xs)\n",
    "\n",
    "fig = plt.figure()\n",
    "ax = fig.add_subplot(1, 1, 1)\n",
    "\n",
    "# put some axis lines on our plot\n",
    "ax.axhline(y=0, color='gray')\n",
    "ax.axvline(x=0, color='gray')\n",
    "\n",
    "# make the original graph semi-transparent by setting `alpha=.2` (i.e., 20% visible)\n",
    "ax.plot(xs, ys)"
   ]
  },
  {
   "cell_type": "markdown",
   "metadata": {},
   "source": [
    "Since `Python` doesn't actually understand the function we defined (it only understands how to comptue it), it doesn't know that there is a jump discontinuity at $x=1$. By default it will connect all points with line segments"
   ]
  },
  {
   "cell_type": "markdown",
   "metadata": {},
   "source": [
    "## Images/Pictures\n",
    "\n",
    "We'll be making a lot of pretty pictures in this course. Usually our pictures will be in $\\mathbb R^1$ or $\\mathbb R^2$. An image in $\\mathbb R^2$ is a two-dimensional array of values. We can manipulate them like regular arrays."
   ]
  },
  {
   "cell_type": "code",
   "execution_count": null,
   "metadata": {},
   "outputs": [],
   "source": [
    "picture = []\n",
    "for i in range(10):\n",
    "    picture.append([0, 0, 0, 0, 0, 0, 0, 0, 0, 0])\n",
    "\n",
    "# picture is now a list of 10 lists of 10 zeros.\n",
    "\n",
    "# set the diagonal entries to 1\n",
    "for i in range(len(picture)):\n",
    "    picture[i][i] = 1\n",
    "    \n",
    "# we can show this \"picture\" with `imshow`\n",
    "fig = plt.figure()\n",
    "ax = fig.add_subplot(1, 1, 1)\n",
    "\n",
    "ax.imshow(picture)"
   ]
  },
  {
   "cell_type": "code",
   "execution_count": null,
   "metadata": {},
   "outputs": [],
   "source": [
    "# Because `picture` is a list of lists, we have to use the `picture[i][j]` syntax to access elements.\n",
    "# However, if we turn it into a numpy array, we can use the `picture[i,j]` syntax\n",
    "picture_array = np.array(picture)\n",
    "\n",
    "L = len(picture_array)\n",
    "for i in range(L):\n",
    "    picture_array[i, L - i - 1] = -1\n",
    "\n",
    "fig = plt.figure()\n",
    "ax = fig.add_subplot(1, 1, 1)\n",
    "\n",
    "ax.imshow(picture_array)"
   ]
  },
  {
   "cell_type": "code",
   "execution_count": null,
   "metadata": {},
   "outputs": [],
   "source": [
    "# numpy has some handy functions to create arrays of any dimension\n",
    "z = np.zeros([10, 10])\n",
    "\n",
    "L = len(z)\n",
    "for i in range(L):\n",
    "    # put a random value in the (1, 2*i % L) entry; the random value is taken from a normal\n",
    "    # distribution\n",
    "    z[i, 2*i % L] = np.random.randn()\n",
    "\n",
    "fig = plt.figure()\n",
    "ax = fig.add_subplot(1, 1, 1)\n",
    "\n",
    "# We're saving the output of `imshow` so we can add a colorbar to our picture\n",
    "im = ax.imshow(z)\n",
    "# Add a color bar which shows what numerical value each color corresponds to\n",
    "fig.colorbar(im)\n"
   ]
  },
  {
   "cell_type": "markdown",
   "metadata": {},
   "source": [
    "Instead of using a 2-d array, we can make a 1-d array and \"reshape\" it when we're done doing computations. Sometimes this makes things easier."
   ]
  },
  {
   "cell_type": "code",
   "execution_count": null,
   "metadata": {},
   "outputs": [],
   "source": [
    "# Let's make a checkerboard!\n",
    "data = np.zeros(81)\n",
    "\n",
    "for i in range(len(data)):\n",
    "    if i % 2 == 0:\n",
    "        data[i] = 1\n",
    "\n",
    "# replace the 1-d array with a 2-d array consisting of the same elements\n",
    "data = data.reshape(9, 9)\n",
    "\n",
    "fig = plt.figure()\n",
    "ax = fig.add_subplot(1, 1, 1)\n",
    "ax.imshow(data)\n"
   ]
  },
  {
   "cell_type": "markdown",
   "metadata": {},
   "source": [
    "Using `reshape`, we can do some complicated computations. Let's compute $xy$-coordinates from their position in the 1-d array and make a circle!"
   ]
  },
  {
   "cell_type": "code",
   "execution_count": null,
   "metadata": {},
   "outputs": [],
   "source": [
    "WIDTH = 10\n",
    "\n",
    "\n",
    "def get_xy(pos):\n",
    "        \"\"\"Returns xy-coordinates corresponding to the input position `pos`.\n",
    "        It is assumed that the region being mapped is the unit square.\n",
    "        All output values will be between 0 and 1.\"\"\"\n",
    "        \n",
    "        return ((pos % WIDTH)/WIDTH, (pos // WIDTH)/WIDTH)\n",
    "\n",
    "def in_circle(coords):\n",
    "    x,y = coords\n",
    "    if x**2 + y**2 <= 1:\n",
    "        return 1.0\n",
    "    return 0.0\n",
    "\n",
    "def color_pixel(pos):\n",
    "    return in_circle(get_xy(pos))\n",
    "\n",
    "color_pixels = np.vectorize(color_pixel)\n",
    "\n",
    "# We actually want to pass in the index of each position to the color_pixels function.\n",
    "# That is, we want to pass in [0, 1, 2, 3, 4, ...]. `range()` creates such an object.\n",
    "colored_data = color_pixels(range(WIDTH**2))\n",
    "# Replace `colored_dat1` with a 2-d array of the appropriate dimensions.\n",
    "colored_data = colored_data.reshape(WIDTH, WIDTH)\n",
    "\n",
    "fig = plt.figure()\n",
    "# We are going to do three side-by side plots, progressively created with more data\n",
    "# The 3 in th second position tells matplotlib to expect 3 side-by-side plots.\n",
    "ax = fig.add_subplot(1, 3, 1)\n",
    "ax.imshow(colored_data)\n",
    "\n",
    "# Make another picture with more data. We are reusing the variable name `colored_data`.\n",
    "# After we override it, we will no longer have access to the old data\n",
    "WIDTH=50\n",
    "colored_data = color_pixels(range(WIDTH**2))\n",
    "colored_data = colored_data.reshape(WIDTH, WIDTH)\n",
    "\n",
    "# get the axis for the second plot (that's why there's a two in the last position)\n",
    "ax = fig.add_subplot(1, 3, 2)\n",
    "ax.imshow(colored_data)\n",
    "\n",
    "# Make another picture with more data. We are reusing the variable name `colored_data`.\n",
    "# After we override it, we will no longer have access to the old data\n",
    "WIDTH=300\n",
    "colored_data = color_pixels(range(WIDTH**2))\n",
    "colored_data = colored_data.reshape(WIDTH, WIDTH)\n",
    "\n",
    "# get the axis for the second plot\n",
    "ax = fig.add_subplot(1, 3, 3)\n",
    "ax.imshow(colored_data)\n"
   ]
  },
  {
   "cell_type": "markdown",
   "metadata": {},
   "source": [
    "# Adding text descriptions\n",
    "\n",
    "In a Jupyter notebook, there are two \"cell types\". Select `Cell` from the menu above and change the cell type to *Markdown*. Then execute the cell below."
   ]
  },
  {
   "cell_type": "code",
   "execution_count": null,
   "metadata": {
    "collapsed": true
   },
   "outputs": [],
   "source": [
    "# Fun Cell\n",
    "\n",
    "This cell explains things.\n",
    "\n",
    "## Math?\n",
    "\n",
    "You bet! We have math: $\\int x^2\\,\\mathrm dx$. We can also do display-style math $$\\int_{\\mathbb R^2} x^2+y^2\\,\\mathrm dx\\mathrm dy.$$\n",
    "\n",
    "You can *emphasize* text or **especially emphasize** it."
   ]
  },
  {
   "cell_type": "code",
   "execution_count": null,
   "metadata": {},
   "outputs": [],
   "source": []
  },
  {
   "cell_type": "code",
   "execution_count": null,
   "metadata": {},
   "outputs": [],
   "source": []
  },
  {
   "cell_type": "code",
   "execution_count": null,
   "metadata": {
    "collapsed": true
   },
   "outputs": [],
   "source": []
  }
 ],
 "metadata": {
  "kernelspec": {
   "display_name": "Python 3",
   "language": "python",
   "name": "python3"
  },
  "language_info": {
   "codemirror_mode": {
    "name": "ipython",
    "version": 3
   },
   "file_extension": ".py",
   "mimetype": "text/x-python",
   "name": "python",
   "nbconvert_exporter": "python",
   "pygments_lexer": "ipython3",
   "version": "3.6.9"
  }
 },
 "nbformat": 4,
 "nbformat_minor": 2
}
