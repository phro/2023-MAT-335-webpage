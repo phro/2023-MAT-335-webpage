{
 "cells": [
  {
   "cell_type": "markdown",
   "metadata": {},
   "source": [
    "# Homework 2\n",
    "\n",
    "Do the programing part of Homework 2 in this notebook. Predefined are function *stubs*. That is, the name of the function and a basic body is predefined. You need to modify the code to fulfil the requirements of the homework."
   ]
  },
  {
   "cell_type": "code",
   "execution_count": null,
   "metadata": {},
   "outputs": [],
   "source": [
    "# import numpy and matplotlib\n",
    "import numpy as np\n",
    "import matplotlib.pylab as plt\n",
    "from collections import Counter\n",
    "# We give the matplotlib instruction twice, because firefox sometimes gets upset if we don't.\n",
    "# note these `%`-commands are not actually Python commands. They are Jupyter-notebook-specific commands.\n",
    "%matplotlib notebook\n",
    "%matplotlib notebook"
   ]
  },
  {
   "cell_type": "code",
   "execution_count": null,
   "metadata": {},
   "outputs": [],
   "source": [
    "def plot_vectorfield(ax, F, extents=[0,1,0,1], N=20):\n",
    "    \"\"\"Plot the vector field determined by the function F(x,y) on the\n",
    "    matplotlib \"axis\" `ax`.\n",
    "    \"\"\"\n",
    "    xs,ys = np.linspace(extents[0], extents[1], N), np.linspace(extents[2], extents[3], N)\n",
    "    X, Y = np.meshgrid(xs, ys)\n",
    "    ax.quiver(X, Y, *F(X, Y), color=\"gray\")\n",
    "    return ax\n",
    "\n",
    "def plot_streams(ax, F, extents=[0,1,0,1], N=20):\n",
    "    \"\"\"Plot the vector field determined by the function F(x,y) on the\n",
    "    matplotlib \"axis\" `ax`.\n",
    "    \"\"\"\n",
    "    xs,ys = np.linspace(extents[0], extents[1], N), np.linspace(extents[2], extents[3], N)\n",
    "    X, Y = np.meshgrid(xs, ys)\n",
    "    ax.streamplot(X, Y, *F(X, Y), color=\"gray\")\n",
    "    return ax"
   ]
  },
  {
   "cell_type": "code",
   "execution_count": null,
   "metadata": {},
   "outputs": [],
   "source": [
    "def V1(X, Y):\n",
    "    return -Y, X\n",
    "\n",
    "def V2(X, Y):\n",
    "    return X + Y*Y, -Y\n",
    "\n",
    "def V3(X, Y):\n",
    "    return -Y, X + Y*Y\n",
    "\n",
    "def V4(X, Y):\n",
    "    return -X + Y*Y, -Y"
   ]
  },
  {
   "cell_type": "code",
   "execution_count": null,
   "metadata": {},
   "outputs": [],
   "source": [
    "#\n",
    "# Make a single plot with the vector fields for V1,...,V4 as separate subplots\n",
    "#\n",
    "\n",
    "# (2,2) returns a figure and a 2x2 array of \"axes\"\n",
    "fig, ((ax1,ax2),(ax3,ax4)) = plt.subplots(2, 2)\n",
    "# pad=2.0 makes our plots more spaced out so that the titles will fit\n",
    "fig.tight_layout(pad=2.0)\n",
    "\n",
    "#\n",
    "# Plot your vectorfields here\n",
    "#"
   ]
  },
  {
   "cell_type": "code",
   "execution_count": null,
   "metadata": {},
   "outputs": [],
   "source": [
    "def euler(v_x, v_y, steps=10, eps=0.1):\n",
    "    \"\"\"Apply Euler's method `steps` number of times with a step-size of `eps`\"\"\"\n",
    "    # Fill this in\n",
    "    return v_x, v_y\n",
    "\n",
    "print(\"Starting at (1,0) with 1 steps, Euler's method gives\", euler(1, 0, 1),\n",
    "      \"\\nWith two steps\", euler(1, 0, 2),\n",
    "      \"\\nWith three steps\", euler(1, 0, 3))"
   ]
  },
  {
   "cell_type": "code",
   "execution_count": null,
   "metadata": {},
   "outputs": [],
   "source": [
    "def flow(v_x, v_y, F, t, eps=1/100):\n",
    "    # Fill this in\n",
    "    return v_x,v_y\n",
    "\n",
    "def orbit(v_x, v_y, F, t_max=1, eps=1/100):\n",
    "    # Fill ths in\n",
    "    return np.array([v_x]), np.array([v_y])\n",
    "\n",
    "print(\"Starting at (1,0) and flowing for 3.14 second, Euler's method gives\", flow(1, 0, V1, 3.14),\n",
    "      \"and a 4 step approximate orbit is\", orbit(1, 0, V1, 3.14, eps=3.14/4))"
   ]
  },
  {
   "cell_type": "code",
   "execution_count": null,
   "metadata": {},
   "outputs": [],
   "source": [
    "#\n",
    "# Plot V1\n",
    "#\n",
    "extents = [-2, 2, -2, 2]\n",
    "fig, ax = plt.subplots()\n",
    "plot_vectorfield(ax, V1, extents=extents)\n",
    "\n",
    "xs, ys = orbit(1, 1, V1, t_max=2*6.28, eps=0.1)\n",
    "ax.plot(xs, ys, color=\"green\", label=\"eps=0.1\")\n",
    "xs, ys = orbit(1, 1, V1, t_max=2*6.28, eps=0.01)\n",
    "ax.plot(xs, ys, color=\"blue\", label=\"eps=0.01\")\n",
    "xs, ys = orbit(1, 1, V1, t_max=2*6.28, eps=0.001)\n",
    "ax.plot(xs, ys, color=\"red\", label=\"eps=0.001\")\n",
    "\n",
    "ax.set_title(\"The orbit along V1 flowing from (1,1)\")\n",
    "\n",
    "fig.legend()"
   ]
  },
  {
   "cell_type": "code",
   "execution_count": null,
   "metadata": {},
   "outputs": [],
   "source": [
    "def split_runs(seq):\n",
    "    \"\"\"Input a sequence `seq` and return a list of maximal runs contained in `seq`\n",
    "    where a run is defined as a sequence that increases by exactly 1 each index.\"\"\"\n",
    "    # fill this in\n",
    "    return [seq]\n",
    "\n",
    "seq = [1,2,3,6,7,9,15,16,17,18,20]\n",
    "print(\"Splitting the sequence\", seq, \"into runs gives is expected to give\\n\"\n",
    "      \" [[1, 2, 3], [6, 7], [9], [15, 16, 17, 18], [20]]\\n\"\n",
    "      \"and actually gives\\n\", split_runs(seq))"
   ]
  },
  {
   "cell_type": "code",
   "execution_count": null,
   "metadata": {},
   "outputs": [],
   "source": [
    "def indices_close_to_min(seq, tol=0.01):\n",
    "    \"\"\"returns the indices of values in `seq` that are within `tol`\n",
    "    of the minimum value in `seq`\"\"\"\n",
    "    # Fill this in\n",
    "    return [0]\n",
    "\n",
    "seq = np.array([1, .8, .7, .701, .702, .73, .77])\n",
    "print(\"The sequence\", seq, \"is close to its minimum at the indices\", indices_close_to_min(seq))"
   ]
  },
  {
   "cell_type": "code",
   "execution_count": null,
   "metadata": {},
   "outputs": [],
   "source": [
    "def guess_minimums(seq, eps=0.01, tol=0.01):\n",
    "    \"\"\"Given a list `seq` where each value is a step along the dynamical\n",
    "    system with increment `eps`, estimate where the sequence attains a minimum\"\"\"\n",
    "\n",
    "    # Fill this in  \n",
    "    return [0]\n",
    "\n",
    "#\n",
    "# Estimate the period of a (-1,0) flowing along V1\n",
    "#"
   ]
  },
  {
   "cell_type": "code",
   "execution_count": null,
   "metadata": {},
   "outputs": [],
   "source": [
    "#\n",
    "# Plot V3\n",
    "#"
   ]
  },
  {
   "cell_type": "code",
   "execution_count": null,
   "metadata": {},
   "outputs": [],
   "source": [
    "#\n",
    "# Estimate the period of the flow along V3 starting at (-1,0), (-1.1, 0), and (-1.2,0)\n",
    "#"
   ]
  },
  {
   "cell_type": "markdown",
   "metadata": {},
   "source": [
    "## Flowing Areas"
   ]
  },
  {
   "cell_type": "code",
   "execution_count": null,
   "metadata": {},
   "outputs": [],
   "source": [
    "#\n",
    "# Helper functions\n",
    "#\n",
    "def zip_coords(coords, arg2=None):\n",
    "    \"\"\"Give lists [(x1,x2,...), (y1,y2,...)] turn it into [(x1,y1), (x2,y2), ...]\"\"\"\n",
    "    if arg2 is None:\n",
    "        return list(zip(*coords))\n",
    "    # if arg2 was specified, we called `zip_coords(xs, ys)` instead of `zip_coords( (xs, ys) )`\n",
    "    return list(zip(coords, arg2))"
   ]
  },
  {
   "cell_type": "code",
   "execution_count": null,
   "metadata": {},
   "outputs": [],
   "source": [
    "def make_permiter_circle(center, rad, N=10):\n",
    "    \"\"\"Returns points along the perimiter of a circle centered at `center` with radus `rad`\"\"\"\n",
    "    # Fill this in\n",
    "    return np.linspace(0, 2*np.pi, N), np.linspace(0, 2*np.pi, N)\n",
    "\n",
    "print(\"The circle centered at (1,1) with radius (1/2) has points along the perimiter:\",\n",
    "      make_permiter_circle((1,1), 1/2, 4))"
   ]
  },
  {
   "cell_type": "code",
   "execution_count": null,
   "metadata": {},
   "outputs": [],
   "source": [
    "def make_permiter_square(ll_corner, width, N=12):\n",
    "    \"\"\"Returns points along the perimiter of a square with lower-left corner `ll_corner`\n",
    "    and widht `width`\"\"\"\n",
    "    # Fill this in\n",
    "    return np.linspace(0, 2*np.pi, N), np.linspace(0, 2*np.pi, N)\n",
    "\n",
    "print(\"The circle centerd at (1,1) with radius (1/2) has points along the perimiter:\",\n",
    "      make_permiter_square((1,1), 1/2, 12))"
   ]
  },
  {
   "cell_type": "code",
   "execution_count": null,
   "metadata": {},
   "outputs": [],
   "source": [
    "#\n",
    "# Graph a circle and a square\n",
    "#\n",
    "\n",
    "from matplotlib.patches import Polygon\n",
    "from matplotlib.collections import PatchCollection\n",
    "\n",
    "fig, ax = plt.subplots()\n",
    "\n",
    "# Matplotlib graphs \"patches\" consisting of polygons. Make a patch for both the circle and the square\n",
    "# and graph them.\n",
    "circle = Polygon(zip_coords(make_permiter_circle((.5,.5), .125, 100)))\n",
    "square = Polygon(zip_coords(make_permiter_square((0.1,0.1), .25, 100)))\n",
    "\n",
    "patches = PatchCollection([circle, square], alpha=0.4)\n",
    "ax.add_collection(patches)"
   ]
  },
  {
   "cell_type": "code",
   "execution_count": null,
   "metadata": {},
   "outputs": [],
   "source": [
    "#\n",
    "# Create a vectorized version of the `flow` function so it can work on lists of coordinates\n",
    "#\n",
    "vec_flow = np.vectorize(flow)"
   ]
  },
  {
   "cell_type": "code",
   "execution_count": null,
   "metadata": {},
   "outputs": [],
   "source": [
    "#\n",
    "# Plot V3, the square, and the flow of a square for 1.5 seconds\n",
    "#"
   ]
  },
  {
   "cell_type": "code",
   "execution_count": null,
   "metadata": {},
   "outputs": [],
   "source": [
    "#\n",
    "# Plot V3, the square, and the flow of a square for alpha seconds\n",
    "#"
   ]
  },
  {
   "cell_type": "code",
   "execution_count": null,
   "metadata": {},
   "outputs": [],
   "source": [
    "#\n",
    "# Animate the flow!\n",
    "#\n",
    "\n",
    "# these imports allow us to do animations\n",
    "from matplotlib import animation, rc\n",
    "from IPython.display import HTML\n",
    "\n",
    "# duration of the flow and the framerate\n",
    "FLOW_TIME = 10\n",
    "FPS = 10\n",
    "FLOW_PER_FRAME = 1/FPS\n",
    "\n",
    "extents = [-2, 2, -2, 2]\n",
    "fig, ax = plt.subplots()\n",
    "plot_vectorfield(ax, V3, extents=extents)\n",
    "\n",
    "xs, ys = make_permiter_square((-1,0), .5, 100)\n",
    "preflow = Polygon(zip_coords((xs, ys)))\n",
    "patches = PatchCollection([preflow], alpha=0.4)\n",
    "ax.add_collection(patches)\n",
    "\n",
    "# the flowed coordinates\n",
    "fxs, fys = xs, ys\n",
    "def animate(i):\n",
    "    # the flowed coordinates are global variables. We need this declaration to use them\n",
    "    global fxs, fys\n",
    "    # flow the coordinates a little bit\n",
    "    fxs, fys = vec_flow(fxs, fys, V3, FLOW_PER_FRAME, 0.01)\n",
    "    # draw the patches\n",
    "    postflow = Polygon(zip_coords((fxs, fys)))\n",
    "    patches.set_paths([preflow, postflow])\n",
    "    return (patches,)\n",
    "\n",
    "anim = animation.FuncAnimation(fig, animate, frames=FLOW_TIME*FPS, blit=True, interval=1000/FPS)\n",
    "HTML(anim.to_jshtml())"
   ]
  },
  {
   "cell_type": "code",
   "execution_count": null,
   "metadata": {},
   "outputs": [],
   "source": [
    "#\n",
    "# Animate the flow of a circle of radius 1/4 at the origin\n",
    "#"
   ]
  },
  {
   "cell_type": "markdown",
   "metadata": {},
   "source": [
    "## The Rings of Saturn"
   ]
  },
  {
   "cell_type": "code",
   "execution_count": null,
   "metadata": {},
   "outputs": [],
   "source": [
    "#\n",
    "# Create a vector field that simulates orbital velocity\n",
    "#"
   ]
  },
  {
   "cell_type": "code",
   "execution_count": null,
   "metadata": {},
   "outputs": [],
   "source": [
    "#\n",
    "# Make an animation of an orbiting gas cloud\n",
    "#"
   ]
  }
 ],
 "metadata": {
  "kernelspec": {
   "display_name": "Python 3",
   "language": "python",
   "name": "python3"
  },
  "language_info": {
   "codemirror_mode": {
    "name": "ipython",
    "version": 3
   },
   "file_extension": ".py",
   "mimetype": "text/x-python",
   "name": "python",
   "nbconvert_exporter": "python",
   "pygments_lexer": "ipython3",
   "version": "3.6.9"
  }
 },
 "nbformat": 4,
 "nbformat_minor": 2
}
