{
 "cells": [
  {
   "cell_type": "markdown",
   "metadata": {},
   "source": [
    "# Homework 1\n",
    "\n",
    "Do the programing part of Homework 1 in this notebook. Predefined are function *stubs*. That is, the name of the function and a basic body is predefined. You need to modify the code to fulfil the requirements of the homework."
   ]
  },
  {
   "cell_type": "code",
   "execution_count": null,
   "metadata": {},
   "outputs": [],
   "source": [
    "# import numpy and matplotlib\n",
    "import numpy as np\n",
    "import matplotlib.pylab as plt\n",
    "# We give the matplotlib instruction twice, because firefox sometimes gets upset if we don't.\n",
    "# note these `%`-commands are not actually Python commands. They are Jupyter-notebook-specific commands.\n",
    "%matplotlib notebook\n",
    "%matplotlib notebook"
   ]
  },
  {
   "cell_type": "code",
   "execution_count": null,
   "metadata": {},
   "outputs": [],
   "source": [
    "def f(x):\n",
    "    return x*(x-2)*(x-3)\n",
    "\n",
    "def f_prime(x):\n",
    "    return 3*x*x-10*x+6\n",
    "\n",
    "#\n",
    "# FIXME: fill in this function\n",
    "#\n",
    "def T_f(guess):\n",
    "    return guess\n",
    "#\n",
    "# FIXME: fill in this function\n",
    "#\n",
    "def newt(guess, max_iterates = 20, tolerance=0.0001):\n",
    "    return guess\n",
    "\n",
    "v_newt = np.vectorize(newt)"
   ]
  },
  {
   "cell_type": "code",
   "execution_count": null,
   "metadata": {},
   "outputs": [],
   "source": [
    "# N is how many points we will sample\n",
    "N = 500\n",
    "xs = np.linspace(-.5, 3.5, N)\n",
    "ys = v_newt(xs)\n",
    "\n",
    "# Create a figure with two plots stacked vertically. One will be for\n",
    "# the basins of attraction and one will be for graphing f.\n",
    "fig, (ax1, ax2) = plt.subplots(nrows=2, sharex=True)\n",
    "# The `imshow` command assumes every pixel takes up one unit of space. By\n",
    "# defining the `extent` we can tell imshow that we want the units to be\n",
    "# something else. An extent is [x_min, x_max, y_min, y_max]\n",
    "extent = [xs.min(), xs.max(), 0, 1]\n",
    "# The `imshow` command expects a 2d array, but `ys` is a 1d array. We can\n",
    "# make it a 2d array with the command `np.array([ys])`\n",
    "ax1.imshow(np.array([ys]), extent=extent, aspect=\"auto\")\n",
    "# Draw some axis lines on the second plot\n",
    "ax2.axhline(y=0, color='k')\n",
    "ax2.axvline(x=0, color='k')\n",
    "# Plot the function\n",
    "ax2.plot(xs, f(xs))"
   ]
  },
  {
   "cell_type": "code",
   "execution_count": null,
   "metadata": {},
   "outputs": [],
   "source": [
    "#\n",
    "# Make a graph that is \"zoomed-in\" to the boundary between two basins of attraction\n",
    "#"
   ]
  },
  {
   "cell_type": "code",
   "execution_count": null,
   "metadata": {},
   "outputs": [],
   "source": [
    "#\n",
    "# Graph the basin of attaction of (only) 3\n",
    "#"
   ]
  },
  {
   "cell_type": "markdown",
   "metadata": {},
   "source": [
    "### Complex Newton's Method"
   ]
  },
  {
   "cell_type": "code",
   "execution_count": null,
   "metadata": {},
   "outputs": [],
   "source": [
    "#\n",
    "# This function is provided for you to use later\n",
    "#\n",
    "def make_complex_grid(z_low, z_high, N=100):\n",
    "    \"\"\"Create an N x N  2d array of complex numbers whose lower-left\n",
    "    corner is give by `z_low` and upper-right corner is given by `z_high`\"\"\"\n",
    "    reals = np.linspace(np.real(z_low), np.real(z_high), N)\n",
    "    imags = np.linspace(np.imag(z_low), np.imag(z_high), N)\n",
    "    a, b = np.meshgrid(reals, imags)\n",
    "    return a + b*1J"
   ]
  },
  {
   "cell_type": "code",
   "execution_count": null,
   "metadata": {},
   "outputs": [],
   "source": [
    "#\n",
    "# FIXME: fill in this function\n",
    "#\n",
    "def newt2(guess_array, iterations=20):\n",
    "    return guess_array\n",
    "\n",
    "xs = np.array([1,2,3,4, 2000])\n",
    "print(\"v_newt and newt2 should give similar results. v_newt:\\n\", v_newt(xs), \"\\n and newt2:\\n\", newt2(xs))"
   ]
  },
  {
   "cell_type": "code",
   "execution_count": null,
   "metadata": {},
   "outputs": [],
   "source": [
    "#\n",
    "# There are many numpy functions that will be helpful for implementing `clamped_newt`.\n",
    "# For example, `np.round`. You can google for these.\n",
    "#\n",
    "# Another helpful tip is fancy indexing: If `xs` is an array, to set\n",
    "# all elements of `xs` which are less than four to zero, you can do\n",
    "# `xs[ xs < 4 ] = 0`. To set all elements of `xs` that are less than four but greater\n",
    "# than three to zero, you can do `xs[ (xs < 4) & (xs > 3) ] = 0`. Note the use of parenthesis!\n",
    "#\n",
    "def clamped_newt(guess_array, iterations=20):\n",
    "    return np.real(guess_array)\n",
    "\n",
    "xs = np.array([1,2,3,4, 2000])\n",
    "print(\"clamped_newt should the same outputs as newt2, but rounded to the\"\n",
    "      \"nearest root. newt2:\\n\", newt2(xs), \"\\n and clamped_newt:\\n\", clamped_newt(xs))"
   ]
  },
  {
   "cell_type": "code",
   "execution_count": null,
   "metadata": {},
   "outputs": [],
   "source": [
    "N = 500\n",
    "zs = make_complex_grid(-.5-1j, 3.5+1j, N)\n",
    "\n",
    "fig, ax = plt.subplots()\n",
    "\n",
    "extent = [np.real(zs).min(), np.real(zs).max(), np.imag(zs).min(), np.imag(zs).max()]\n",
    "\n",
    "ax.imshow(clamped_newt(zs), cmap=\"viridis\", extent=extent, origin=\"lower\")\n",
    "\n",
    "plt.show()"
   ]
  },
  {
   "cell_type": "code",
   "execution_count": null,
   "metadata": {},
   "outputs": [],
   "source": [
    "#\n",
    "# Make a graph that is \"zoomed-in\" to a region that interests you\n",
    "#"
   ]
  },
  {
   "cell_type": "markdown",
   "metadata": {},
   "source": [
    "#### A new function"
   ]
  },
  {
   "cell_type": "code",
   "execution_count": null,
   "metadata": {},
   "outputs": [],
   "source": [
    "#\n",
    "# Redefine `f` and `f_prime` here and plot a new Newton fractal!\n",
    "#\n"
   ]
  },
  {
   "cell_type": "code",
   "execution_count": null,
   "metadata": {},
   "outputs": [],
   "source": [
    "#\n",
    "# Zoom into an interesting region of your new fractal\n",
    "#"
   ]
  },
  {
   "cell_type": "markdown",
   "metadata": {},
   "source": [
    "## Common Fractals"
   ]
  },
  {
   "cell_type": "code",
   "execution_count": null,
   "metadata": {},
   "outputs": [],
   "source": [
    "#\n",
    "# Below are some functions that you might find useful\n",
    "#\n",
    "\n",
    "# needed for plotting many line segments\n",
    "from matplotlib import collections\n",
    "\n",
    "# If you want more context to understand this function, google \"higher order functions\"\n",
    "def repeat(func, times=5):\n",
    "    \"\"\"Returns a function that applys `func` to its input\n",
    "    `times` number of times.\"\"\"\n",
    "    def new_func(x):\n",
    "        for _ in range(times):\n",
    "            x = func(x)\n",
    "        return x\n",
    "    return new_func\n",
    "\n",
    "def render_segments_to_array(segments, array, extent=[0, 1, 0, 1]):\n",
    "    \"\"\"Given a list of segments `segments` and a 2d numpy array `array`, \n",
    "    \"draw\" the segments to the array. The resulting array is suitable for displaying\n",
    "    with `imshow`. \"\"\"\n",
    "    from skimage.draw import line\n",
    "    array = array.copy()\n",
    "    h, w = array.shape\n",
    "    \n",
    "    for (p1, p2) in segments:\n",
    "        # conver the xy-coordinates to array indices\n",
    "        p1x = np.clip(int((p1[0] - extent[0]) / (extent[1] - extent[0]) * w), 0, w - 1)\n",
    "        p2x = np.clip(int((p2[0] - extent[0]) / (extent[1] - extent[0]) * w), 0, w - 1)\n",
    "        p1y = np.clip(int((p1[1] - extent[2]) / (extent[3] - extent[2]) * h), 0, h - 1)\n",
    "        p2y = np.clip(int((p2[1] - extent[2]) / (extent[3] - extent[2]) * h), 0, h - 1)\n",
    "        \n",
    "        coords = line(p1y, p1x, p2y, p2x)\n",
    "        array[coords] = 1\n",
    "    return array"
   ]
  },
  {
   "cell_type": "code",
   "execution_count": null,
   "metadata": {},
   "outputs": [],
   "source": [
    "def cantorize(segments):\n",
    "    \"\"\"`segments` is a list of pairs of points which specify intervals. `cantorize` removes\n",
    "    the middle third of each of these intervals and returns a resulting list of intervals.\"\"\"\n",
    "    ret = []\n",
    "    for (p1, p2) in segments:\n",
    "        # compute the end of the left third\n",
    "        pL = (p1[0]*2/3+p2[0]/3, p1[1]*2/3+p2[1]/3)\n",
    "        # add the left third\n",
    "        ret.append( (p1, pL) )\n",
    "        # compute the end of the right third\n",
    "        pR = (p1[0]/3+p2[0]*2/3, p1[1]/3+p2[1]*2/3)\n",
    "        # add the right third\n",
    "        ret.append( (pR, p2) )\n",
    "    return ret\n",
    "\n",
    "# An interval is specified by a pair of points; Since we want\n",
    "# a list of intervals, we make a list of lists of lists!\n",
    "starting_segments = [ ((0,0), (1,0)) ]\n",
    "                   \n",
    "print(\"`cantorize` removes the middle third of line segments in a list. \"\n",
    "      \"It returns a list of the resulting (new) line segments. For example, \"\n",
    "      \"When given\\n\",starting_segments,\"\\nIt produces\\n\", cantorize(starting_segments))"
   ]
  },
  {
   "cell_type": "markdown",
   "metadata": {},
   "source": [
    "#### Cantor Set"
   ]
  },
  {
   "cell_type": "code",
   "execution_count": null,
   "metadata": {},
   "outputs": [],
   "source": [
    "# create a function that repeats `cantroize` several times.\n",
    "multi_cantorize = repeat(cantorize, 4)\n",
    "\n",
    "fig, ax = plt.subplots()\n",
    "\n",
    "# Turn our line segments into a matplotlib object\n",
    "lines = collections.LineCollection(multi_cantorize(starting_segments))\n",
    "# plot the line segments\n",
    "ax.add_collection(lines)\n",
    "\n",
    "# We can't use an extent when plotting just lines, so\n",
    "# we set the bounds of the plot this way\n",
    "ax.set_xlim(-.1, 1.1)\n",
    "ax.set_ylim(-.2, .2)\n",
    "\n",
    "plt.show()"
   ]
  },
  {
   "cell_type": "code",
   "execution_count": null,
   "metadata": {},
   "outputs": [],
   "source": [
    "N = 100\n",
    "extent = [0, 1, -.5, .5]\n",
    "\n",
    "cantor_intervals = multi_cantorize(starting_segments)\n",
    "rendered_cantor = render_segments_to_array(cantor_intervals, np.zeros((1, N)), extent)\n",
    "\n",
    "fig, ax = plt.subplots()\n",
    "\n",
    "ax.imshow(rendered_cantor, cmap=\"viridis\", extent=extent, origin=\"lower\")\n",
    "\n",
    "plt.show()\n",
    "\n",
    "print(\"The rendered cantor set touches\", rendered_cantor.sum(), \"intervals of width\", 1/N, \n",
    "      \"between\", extent[0], \"and\", extent[1])\n",
    "    "
   ]
  },
  {
   "cell_type": "code",
   "execution_count": null,
   "metadata": {},
   "outputs": [],
   "source": [
    "#\n",
    "# Estimate the box-counting dimension of the cantor set\n",
    "#"
   ]
  },
  {
   "cell_type": "markdown",
   "metadata": {},
   "source": [
    "#### Koch Snowflake"
   ]
  },
  {
   "cell_type": "code",
   "execution_count": null,
   "metadata": {},
   "outputs": [],
   "source": [
    "def kochize(segments):\n",
    "    return segments\n",
    "\n",
    "starting_segments = [ ((0,0), (1,0)) ]\n",
    "\n",
    "print(\"Applying one iteration of the Koch snowflake subsitution to\\n\", starting_segments, \n",
    "      \"\\ngives\\n\", kochize(starting_segments))"
   ]
  },
  {
   "cell_type": "code",
   "execution_count": null,
   "metadata": {},
   "outputs": [],
   "source": [
    "# create a function that repeats `cantroize` several times.\n",
    "multi_kochize = repeat(kochize, 4)\n",
    "\n",
    "fig, ax = plt.subplots()\n",
    "\n",
    "# Turn our line segments into a matplotlib object\n",
    "lines = collections.LineCollection(multi_kochize(starting_segments))\n",
    "# plot the line segments\n",
    "ax.add_collection(lines)\n",
    "\n",
    "# Make sure the snowflake is in view\n",
    "ax.set_ylim(-.1, .4)\n",
    "\n",
    "# We want the graph to have equal scaling in all directions\n",
    "# so that vertical lengths and horizontal lengths that are equal\n",
    "# show up equal on the computer screen\n",
    "ax.set_aspect('equal', 'datalim')\n",
    "\n",
    "plt.show()"
   ]
  },
  {
   "cell_type": "code",
   "execution_count": null,
   "metadata": {},
   "outputs": [],
   "source": [
    "#\n",
    "# Graph of the Koch snowflake (all sides, not just the top).\n",
    "#"
   ]
  },
  {
   "cell_type": "code",
   "execution_count": null,
   "metadata": {},
   "outputs": [],
   "source": [
    "N = 100\n",
    "extent = [0, 1, -.1, .4]\n",
    "\n",
    "koch_segments = multi_kochize(starting_segments)\n",
    "rendered_koch = render_segments_to_array(koch_segments, np.zeros((N, N)), extent)\n",
    "\n",
    "fig, ax = plt.subplots()\n",
    "\n",
    "ax.imshow(rendered_koch, cmap=\"viridis\", extent=extent, origin=\"lower\")\n",
    "\n",
    "plt.show()"
   ]
  },
  {
   "cell_type": "code",
   "execution_count": null,
   "metadata": {},
   "outputs": [],
   "source": [
    "#\n",
    "# Estimate the box-counting dimension of the Koch snowflake\n",
    "#"
   ]
  },
  {
   "cell_type": "markdown",
   "metadata": {
    "collapsed": true
   },
   "source": [
    "#### Strange Koch"
   ]
  },
  {
   "cell_type": "code",
   "execution_count": null,
   "metadata": {},
   "outputs": [],
   "source": [
    "# Setting the \"seed\" for numpy's random number generator will ensure you get the same sequence\n",
    "# of random numbers each time you execute the function.\n",
    "#\n",
    "# After setting this, you can call np.random.uniform() multiple times to get a sequence of random numbers\n",
    "np.random.seed(10)\n",
    "def strange_kochize(segments):\n",
    "    return segments\n",
    "\n",
    "\n",
    "#\n",
    "# Make a plot of the strange Koch snowflake\n",
    "#"
   ]
  },
  {
   "cell_type": "code",
   "execution_count": null,
   "metadata": {},
   "outputs": [],
   "source": [
    "#\n",
    "# Estimate the fractal dimension of the strange Koch snowflake\n",
    "#"
   ]
  },
  {
   "cell_type": "markdown",
   "metadata": {},
   "source": [
    "### Boundary Dimensions"
   ]
  },
  {
   "cell_type": "code",
   "execution_count": null,
   "metadata": {},
   "outputs": [],
   "source": [
    "# A utility function for finding the boundary between constant sets in an array.\n",
    "# You can also experiment with the `canny` function from the `skimage.feature` \n",
    "# module, which will do edge-detection on non-constant/noisy data\n",
    "def find_edges(array):\n",
    "    \"\"\"Inputs a 2d array, `array`, and outputs an array containing 0s and 1s.\n",
    "    If adjacent entries in `array` differ to the right, below, or diagonally, the returned\n",
    "    array has a 1 in that position. Otherwise, it has a 0.\n",
    "    \n",
    "    The returned array is one smaller each dimension (rows and columns)\"\"\"\n",
    "    diff_right = (array[:-1, :-1] - array[:-1, 1:]) != 0\n",
    "    diff_down = (array[:-1, :-1] - array[1:, :-1]) != 0\n",
    "    diff_diag = (array[:-1, :-1] - array[1:, 1:]) != 0\n",
    "    \n",
    "    return (diff_right + diff_down + diff_diag != 0).astype(int)"
   ]
  },
  {
   "cell_type": "code",
   "execution_count": null,
   "metadata": {},
   "outputs": [],
   "source": [
    "#\n",
    "# Graph the boundary of the Newton fractal determined by f(x)=x(x-2)(x-3)\n",
    "#"
   ]
  },
  {
   "cell_type": "code",
   "execution_count": null,
   "metadata": {},
   "outputs": [],
   "source": [
    "#\n",
    "# Estimate the fractal dimension of the boundary of the Newton fractal given by f(x)=x(x-2)(x-3)\n",
    "#"
   ]
  },
  {
   "cell_type": "code",
   "execution_count": null,
   "metadata": {},
   "outputs": [],
   "source": []
  }
 ],
 "metadata": {
  "kernelspec": {
   "display_name": "Python 3",
   "language": "python",
   "name": "python3"
  },
  "language_info": {
   "codemirror_mode": {
    "name": "ipython",
    "version": 3
   },
   "file_extension": ".py",
   "mimetype": "text/x-python",
   "name": "python",
   "nbconvert_exporter": "python",
   "pygments_lexer": "ipython3",
   "version": "3.6.9"
  }
 },
 "nbformat": 4,
 "nbformat_minor": 2
}
